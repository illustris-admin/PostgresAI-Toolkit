{
 "cells": [
  {
   "cell_type": "code",
   "execution_count": 1,
   "id": "cc96de5b-9e50-4507-97a9-cf2ab2f70219",
   "metadata": {},
   "outputs": [
    {
     "name": "stderr",
     "output_type": "stream",
     "text": [
      "2024-11-01 16:38:38.272415: E external/local_xla/xla/stream_executor/cuda/cuda_fft.cc:477] Unable to register cuFFT factory: Attempting to register factory for plugin cuFFT when one has already been registered\n",
      "WARNING: All log messages before absl::InitializeLog() is called are written to STDERR\n",
      "E0000 00:00:1730500718.287994   30013 cuda_dnn.cc:8310] Unable to register cuDNN factory: Attempting to register factory for plugin cuDNN when one has already been registered\n",
      "E0000 00:00:1730500718.292904   30013 cuda_blas.cc:1418] Unable to register cuBLAS factory: Attempting to register factory for plugin cuBLAS when one has already been registered\n",
      "2024-11-01 16:38:38.308906: I tensorflow/core/platform/cpu_feature_guard.cc:210] This TensorFlow binary is optimized to use available CPU instructions in performance-critical operations.\n",
      "To enable the following instructions: AVX2 FMA, in other operations, rebuild TensorFlow with the appropriate compiler flags.\n",
      "2024-11-01 16:38:40.197779: E external/local_xla/xla/stream_executor/cuda/cuda_driver.cc:152] failed call to cuInit: INTERNAL: CUDA error: Failed call to cuInit: UNKNOWN ERROR (303)\n",
      "WARNING:absl:Compiled the loaded model, but the compiled metrics have yet to be built. `model.compile_metrics` will be empty until you train or evaluate the model.\n",
      "WARNING:absl:Compiled the loaded model, but the compiled metrics have yet to be built. `model.compile_metrics` will be empty until you train or evaluate the model.\n"
     ]
    },
    {
     "name": "stdout",
     "output_type": "stream",
     "text": [
      "Scheduler started\n",
      " * Serving Flask app 'flask_app'\n",
      " * Debug mode: on\n"
     ]
    },
    {
     "name": "stderr",
     "output_type": "stream",
     "text": [
      "INFO:werkzeug:\u001b[31m\u001b[1mWARNING: This is a development server. Do not use it in a production deployment. Use a production WSGI server instead.\u001b[0m\n",
      " * Running on http://127.0.0.1:5000\n",
      "INFO:werkzeug:\u001b[33mPress CTRL+C to quit\u001b[0m\n",
      "INFO:werkzeug: * Restarting with stat\n",
      "Traceback (most recent call last):\n",
      "  File \"/usr/lib/python3.10/runpy.py\", line 196, in _run_module_as_main\n",
      "    return _run_code(code, main_globals, None,\n",
      "  File \"/usr/lib/python3.10/runpy.py\", line 86, in _run_code\n",
      "    exec(code, run_globals)\n",
      "  File \"/home/doug/.local/lib/python3.10/site-packages/ipykernel_launcher.py\", line 18, in <module>\n",
      "    app.launch_new_instance()\n",
      "  File \"/home/doug/.local/lib/python3.10/site-packages/traitlets/config/application.py\", line 1074, in launch_instance\n",
      "    app.initialize(argv)\n",
      "  File \"/home/doug/.local/lib/python3.10/site-packages/traitlets/config/application.py\", line 118, in inner\n",
      "    return method(app, *args, **kwargs)\n",
      "  File \"/home/doug/.local/lib/python3.10/site-packages/ipykernel/kernelapp.py\", line 692, in initialize\n",
      "    self.init_sockets()\n",
      "  File \"/home/doug/.local/lib/python3.10/site-packages/ipykernel/kernelapp.py\", line 331, in init_sockets\n",
      "    self.shell_port = self._bind_socket(self.shell_socket, self.shell_port)\n",
      "  File \"/home/doug/.local/lib/python3.10/site-packages/ipykernel/kernelapp.py\", line 253, in _bind_socket\n",
      "    return self._try_bind_socket(s, port)\n",
      "  File \"/home/doug/.local/lib/python3.10/site-packages/ipykernel/kernelapp.py\", line 229, in _try_bind_socket\n",
      "    s.bind(\"tcp://%s:%i\" % (self.ip, port))\n",
      "  File \"/home/doug/.local/lib/python3.10/site-packages/zmq/sugar/socket.py\", line 311, in bind\n",
      "    super().bind(addr)\n",
      "  File \"_zmq.py\", line 917, in zmq.backend.cython._zmq.Socket.bind\n",
      "  File \"_zmq.py\", line 179, in zmq.backend.cython._zmq._check_rc\n",
      "zmq.error.ZMQError: Address already in use (addr='tcp://127.0.0.1:33109')\n"
     ]
    },
    {
     "ename": "SystemExit",
     "evalue": "1",
     "output_type": "error",
     "traceback": [
      "An exception has occurred, use %tb to see the full traceback.\n",
      "\u001b[0;31mSystemExit\u001b[0m\u001b[0;31m:\u001b[0m 1\n"
     ]
    },
    {
     "name": "stdout",
     "output_type": "stream",
     "text": [
      " * Serving Flask app 'flask_app'\n",
      " * Debug mode: on\n"
     ]
    },
    {
     "name": "stderr",
     "output_type": "stream",
     "text": [
      "INFO:werkzeug:\u001b[31m\u001b[1mWARNING: This is a development server. Do not use it in a production deployment. Use a production WSGI server instead.\u001b[0m\n",
      " * Running on http://127.0.0.1:5000\n",
      "INFO:werkzeug:\u001b[33mPress CTRL+C to quit\u001b[0m\n"
     ]
    },
    {
     "name": "stdout",
     "output_type": "stream",
     "text": [
      "\u001b[1m1/1\u001b[0m \u001b[32m━━━━━━━━━━━━━━━━━━━━\u001b[0m\u001b[37m\u001b[0m \u001b[1m0s\u001b[0m 184ms/step\n"
     ]
    },
    {
     "name": "stderr",
     "output_type": "stream",
     "text": [
      "INFO:werkzeug:127.0.0.1 - - [01/Nov/2024 16:39:01] \"POST /predictions/classify_image HTTP/1.1\" 200 -\n"
     ]
    },
    {
     "name": "stdout",
     "output_type": "stream",
     "text": [
      "\u001b[1m1/1\u001b[0m \u001b[32m━━━━━━━━━━━━━━━━━━━━\u001b[0m\u001b[37m\u001b[0m \u001b[1m0s\u001b[0m 33ms/step\n"
     ]
    },
    {
     "name": "stderr",
     "output_type": "stream",
     "text": [
      "INFO:werkzeug:127.0.0.1 - - [01/Nov/2024 16:39:01] \"POST /predictions/predict_purchase_frequency HTTP/1.1\" 200 -\n",
      "INFO:werkzeug:127.0.0.1 - - [01/Nov/2024 16:39:09] \"\u001b[32mGET /dashboard HTTP/1.1\u001b[0m\" 308 -\n",
      "INFO:werkzeug:127.0.0.1 - - [01/Nov/2024 16:39:09] \"\u001b[32mGET /dashboard/ HTTP/1.1\u001b[0m\" 302 -\n",
      "INFO:werkzeug:127.0.0.1 - - [01/Nov/2024 16:39:09] \"GET /dashboard/login HTTP/1.1\" 200 -\n",
      "INFO:werkzeug:127.0.0.1 - - [01/Nov/2024 16:39:09] \"GET /dashboard/static/css/main.css HTTP/1.1\" 200 -\n",
      "INFO:werkzeug:127.0.0.1 - - [01/Nov/2024 16:39:09] \"GET /dashboard/static/js/app.js HTTP/1.1\" 200 -\n",
      "INFO:werkzeug:127.0.0.1 - - [01/Nov/2024 16:39:09] \"GET /dashboard/static/img/header.png HTTP/1.1\" 200 -\n",
      "INFO:werkzeug:127.0.0.1 - - [01/Nov/2024 16:39:09] \"GET /dashboard/static/fonts/fa-solid-900.woff2 HTTP/1.1\" 200 -\n",
      "INFO:werkzeug:127.0.0.1 - - [01/Nov/2024 16:39:10] \"GET /dashboard/static/img/favicon.ico HTTP/1.1\" 200 -\n",
      "INFO:werkzeug:127.0.0.1 - - [01/Nov/2024 16:39:10] \"GET /dashboard/static/pages/overview.html HTTP/1.1\" 200 -\n",
      "INFO:werkzeug:127.0.0.1 - - [01/Nov/2024 16:39:19] \"POST /dashboard/login HTTP/1.1\" 200 -\n",
      "INFO:werkzeug:127.0.0.1 - - [01/Nov/2024 16:39:19] \"\u001b[36mGET /dashboard/static/js/app.js HTTP/1.1\u001b[0m\" 304 -\n",
      "INFO:werkzeug:127.0.0.1 - - [01/Nov/2024 16:39:19] \"\u001b[36mGET /dashboard/static/css/main.css HTTP/1.1\u001b[0m\" 304 -\n",
      "INFO:werkzeug:127.0.0.1 - - [01/Nov/2024 16:39:19] \"GET /dashboard/static/img/header.png HTTP/1.1\" 200 -\n",
      "INFO:werkzeug:127.0.0.1 - - [01/Nov/2024 16:39:20] \"GET /dashboard/static/img/favicon.ico HTTP/1.1\" 200 -\n",
      "INFO:werkzeug:127.0.0.1 - - [01/Nov/2024 16:39:20] \"\u001b[36mGET /dashboard/static/pages/overview.html HTTP/1.1\u001b[0m\" 304 -\n",
      "INFO:werkzeug:127.0.0.1 - - [01/Nov/2024 16:39:28] \"\u001b[32mGET /dashboard/overview HTTP/1.1\u001b[0m\" 302 -\n",
      "INFO:werkzeug:127.0.0.1 - - [01/Nov/2024 16:39:28] \"GET /dashboard/login HTTP/1.1\" 200 -\n",
      "INFO:werkzeug:127.0.0.1 - - [01/Nov/2024 16:39:28] \"GET /dashboard/static/css/main.css HTTP/1.1\" 200 -\n",
      "INFO:werkzeug:127.0.0.1 - - [01/Nov/2024 16:39:28] \"GET /dashboard/static/js/app.js HTTP/1.1\" 200 -\n",
      "INFO:werkzeug:127.0.0.1 - - [01/Nov/2024 16:39:28] \"GET /dashboard/static/img/header.png HTTP/1.1\" 200 -\n",
      "INFO:werkzeug:127.0.0.1 - - [01/Nov/2024 16:39:28] \"GET /dashboard/static/fonts/fa-solid-900.woff2 HTTP/1.1\" 200 -\n",
      "INFO:werkzeug:127.0.0.1 - - [01/Nov/2024 16:39:29] \"GET /dashboard/static/pages/overview.html HTTP/1.1\" 200 -\n"
     ]
    },
    {
     "name": "stdout",
     "output_type": "stream",
     "text": [
      "\u001b[1m1/1\u001b[0m \u001b[32m━━━━━━━━━━━━━━━━━━━━\u001b[0m\u001b[37m\u001b[0m \u001b[1m0s\u001b[0m 15ms/step\n"
     ]
    },
    {
     "name": "stderr",
     "output_type": "stream",
     "text": [
      "INFO:werkzeug:127.0.0.1 - - [01/Nov/2024 16:39:31] \"POST /predictions/classify_image HTTP/1.1\" 200 -\n"
     ]
    },
    {
     "name": "stdout",
     "output_type": "stream",
     "text": [
      "\u001b[1m1/1\u001b[0m \u001b[32m━━━━━━━━━━━━━━━━━━━━\u001b[0m\u001b[37m\u001b[0m \u001b[1m0s\u001b[0m 13ms/step\n"
     ]
    },
    {
     "name": "stderr",
     "output_type": "stream",
     "text": [
      "INFO:werkzeug:127.0.0.1 - - [01/Nov/2024 16:39:34] \"POST /predictions/predict_purchase_frequency HTTP/1.1\" 200 -\n",
      "INFO:werkzeug:127.0.0.1 - - [01/Nov/2024 16:40:38] \"\u001b[32mPOST /dashboard/login HTTP/1.1\u001b[0m\" 302 -\n",
      "INFO:werkzeug:127.0.0.1 - - [01/Nov/2024 16:40:38] \"GET /dashboard/ HTTP/1.1\" 200 -\n",
      "INFO:werkzeug:127.0.0.1 - - [01/Nov/2024 16:40:38] \"\u001b[36mGET /dashboard/static/css/main.css HTTP/1.1\u001b[0m\" 304 -\n",
      "INFO:werkzeug:127.0.0.1 - - [01/Nov/2024 16:40:38] \"\u001b[36mGET /dashboard/static/js/app.js HTTP/1.1\u001b[0m\" 304 -\n",
      "INFO:werkzeug:127.0.0.1 - - [01/Nov/2024 16:40:38] \"GET /dashboard/static/elements/menu.html HTTP/1.1\" 200 -\n",
      "INFO:werkzeug:127.0.0.1 - - [01/Nov/2024 16:40:38] \"GET /dashboard/static/elements/modal.html HTTP/1.1\" 200 -\n",
      "INFO:werkzeug:127.0.0.1 - - [01/Nov/2024 16:40:38] \"\u001b[36mGET /dashboard/static/pages/overview.html HTTP/1.1\u001b[0m\" 304 -\n",
      "INFO:werkzeug:127.0.0.1 - - [01/Nov/2024 16:40:38] \"GET /dashboard/api/custom_graphs HTTP/1.1\" 200 -\n",
      "INFO:werkzeug:127.0.0.1 - - [01/Nov/2024 16:40:39] \"GET /dashboard/static/pages/telemetry.html HTTP/1.1\" 200 -\n",
      "INFO:werkzeug:127.0.0.1 - - [01/Nov/2024 16:40:39] \"GET /dashboard/api/overview HTTP/1.1\" 200 -\n",
      "INFO:werkzeug:127.0.0.1 - - [01/Nov/2024 16:40:39] \"GET /dashboard/telemetry/get_is_telemetry_answered HTTP/1.1\" 200 -\n",
      "INFO:werkzeug:127.0.0.1 - - [01/Nov/2024 16:40:39] \"GET /dashboard/static/elements/monitorLevel.html HTTP/1.1\" 200 -\n",
      "INFO:werkzeug:127.0.0.1 - - [01/Nov/2024 16:40:39] \"GET /dashboard/api/deploy_details HTTP/1.1\" 200 -\n"
     ]
    }
   ],
   "source": [
    "%run flask_app.py\n",
    "\n",
    "from threading import Thread\n",
    "\n",
    "def run_app():\n",
    "    app.run(debug=True, use_reloader=False)\n",
    "\n",
    "if __name__ == '__main__':\n",
    "    Thread(target=run_app).start()\n"
   ]
  },
  {
   "cell_type": "code",
   "execution_count": null,
   "id": "dbb60705-f285-458d-8578-6e1f54a53ea7",
   "metadata": {},
   "outputs": [],
   "source": []
  }
 ],
 "metadata": {
  "kernelspec": {
   "display_name": "Python 3 (ipykernel)",
   "language": "python",
   "name": "python3"
  },
  "language_info": {
   "codemirror_mode": {
    "name": "ipython",
    "version": 3
   },
   "file_extension": ".py",
   "mimetype": "text/x-python",
   "name": "python",
   "nbconvert_exporter": "python",
   "pygments_lexer": "ipython3",
   "version": "3.10.12"
  }
 },
 "nbformat": 4,
 "nbformat_minor": 5
}
