{
 "cells": [
  {
   "cell_type": "code",
   "execution_count": 1,
   "id": "cc96de5b-9e50-4507-97a9-cf2ab2f70219",
   "metadata": {},
   "outputs": [
    {
     "name": "stdout",
     "output_type": "stream",
     "text": [
      "Hit:1 http://us.archive.ubuntu.com/ubuntu jammy InRelease\n",
      "Hit:2 http://us.archive.ubuntu.com/ubuntu jammy-updates InRelease\n",
      "Hit:3 http://us.archive.ubuntu.com/ubuntu jammy-backports InRelease\n",
      "Hit:4 http://security.ubuntu.com/ubuntu jammy-security InRelease\n",
      "Hit:5 http://apt.postgresql.org/pub/repos/apt jammy-pgdg InRelease\n",
      "Reading package lists...\n",
      "Reading package lists...\n",
      "Building dependency tree...\n",
      "Reading state information...\n",
      "Suggested packages:\n",
      "  postgresql-doc\n",
      "The following NEW packages will be installed:\n",
      "  postgresql postgresql-contrib\n",
      "0 upgraded, 2 newly installed, 0 to remove and 0 not upgraded.\n",
      "Need to get 140 kB of archives.\n",
      "After this operation, 150 kB of additional disk space will be used.\n",
      "Get:1 http://apt.postgresql.org/pub/repos/apt jammy-pgdg/main amd64 postgresql all 17+264.pgdg22.04+1 [69.8 kB]\n",
      "Get:2 http://apt.postgresql.org/pub/repos/apt jammy-pgdg/main amd64 postgresql-contrib all 17+264.pgdg22.04+1 [69.8 kB]\n"
     ]
    },
    {
     "name": "stderr",
     "output_type": "stream",
     "text": [
      "[sudo] password for doug: dpkg-preconfigure: unable to re-open stdin: No such file or directory\n"
     ]
    },
    {
     "name": "stdout",
     "output_type": "stream",
     "text": [
      "Fetched 140 kB in 0s (400 kB/s)\n",
      "Selecting previously unselected package postgresql.\n",
      "(Reading database ... 211382 files and directories currently installed.)\n",
      "Preparing to unpack .../postgresql_17+264.pgdg22.04+1_all.deb ...\n",
      "Unpacking postgresql (17+264.pgdg22.04+1) ...\n",
      "Selecting previously unselected package postgresql-contrib.\n",
      "Preparing to unpack .../postgresql-contrib_17+264.pgdg22.04+1_all.deb ...\n",
      "Unpacking postgresql-contrib (17+264.pgdg22.04+1) ...\n",
      "Setting up postgresql-contrib (17+264.pgdg22.04+1) ...\n",
      "Setting up postgresql (17+264.pgdg22.04+1) ...\n",
      "ALTER ROLE\n",
      "DROP DATABASE\n",
      "PostgreSQL setup complete. Database 'ml_course' created and postgres user password set to 'admin'.\n"
     ]
    }
   ],
   "source": [
    "%%bash\n",
    "\n",
    "# Install PostgreSQL if not already installed\n",
    "echo \"admin\" | sudo -S apt-get update\n",
    "echo \"admin\" | sudo -S apt-get install -y postgresql postgresql-contrib\n",
    "\n",
    "# Start PostgreSQL service\n",
    "echo \"admin\" | sudo -S service postgresql start\n",
    "\n",
    "# Set postgres user password to 'admin'\n",
    "echo \"admin\" | sudo -S -u postgres psql -c \"ALTER USER postgres WITH PASSWORD 'admin';\"\n",
    "\n",
    "# Create the database\n",
    "echo \"admin\" | sudo -S -u postgres psql -c \"DROP DATABASE IF EXISTS ml_course;\"\n",
    "\n",
    "# Create the database\n",
    "echo \"admin\" | sudo -S -u postgres createdb ml_course\n",
    "\n",
    "echo \"PostgreSQL setup complete. Database 'ml_course' created and postgres user password set to 'admin'.\""
   ]
  },
  {
   "cell_type": "code",
   "execution_count": null,
   "id": "9f4b6d37-e27a-4dd7-bfb3-8be6c23109a7",
   "metadata": {},
   "outputs": [],
   "source": []
  }
 ],
 "metadata": {
  "kernelspec": {
   "display_name": "Python 3 (ipykernel)",
   "language": "python",
   "name": "python3"
  },
  "language_info": {
   "codemirror_mode": {
    "name": "ipython",
    "version": 3
   },
   "file_extension": ".py",
   "mimetype": "text/x-python",
   "name": "python",
   "nbconvert_exporter": "python",
   "pygments_lexer": "ipython3",
   "version": "3.10.12"
  }
 },
 "nbformat": 4,
 "nbformat_minor": 5
}
