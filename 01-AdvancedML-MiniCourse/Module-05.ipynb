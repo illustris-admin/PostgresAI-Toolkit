{
 "cells": [
  {
   "cell_type": "code",
   "execution_count": 1,
   "id": "4fac5cfa-0b82-438a-8160-230035f9f006",
   "metadata": {},
   "outputs": [],
   "source": [
    "# Generate a sample image\n",
    "from PIL import Image\n",
    "import numpy as np\n",
    "\n",
    "# Create a sample image\n",
    "sample_img = Image.fromarray(np.random.randint(0, 255, (28, 28), dtype=np.uint8))\n",
    "sample_img.save('sample_image.jpg')"
   ]
  },
  {
   "cell_type": "code",
   "execution_count": 2,
   "id": "cc96de5b-9e50-4507-97a9-cf2ab2f70219",
   "metadata": {},
   "outputs": [
    {
     "name": "stdout",
     "output_type": "stream",
     "text": [
      "Image Classification Response: {'image_id': 1003, 'predicted_class': 1}\n",
      "Purchase Frequency Prediction Response: {'customer_id': 1008, 'predicted_purchase_frequency': 'High'}\n",
      "API testing complete.\n"
     ]
    }
   ],
   "source": [
    "# Test the API\n",
    "import requests\n",
    "\n",
    "def test_image_classification():\n",
    "    url = 'http://localhost:5000/predictions/classify_image'\n",
    "    \n",
    "    # Create a sample image file\n",
    "    from PIL import Image\n",
    "    import numpy as np\n",
    "    import io\n",
    "\n",
    "    # Create a sample 28x28 image\n",
    "    img = Image.fromarray(np.random.randint(0, 255, (28, 28), dtype=np.uint8), 'L')\n",
    "    img_byte_arr = io.BytesIO()\n",
    "    img.save(img_byte_arr, format='PNG')\n",
    "    img_byte_arr = img_byte_arr.getvalue()\n",
    "\n",
    "    files = {'file': ('image.png', img_byte_arr, 'image/png')}\n",
    "    response = requests.post(url, files=files)\n",
    "    print(\"Image Classification Response:\", response.json())\n",
    "\n",
    "# Test purchase frequency prediction endpoint\n",
    "def test_purchase_frequency_prediction():\n",
    "    url = 'http://localhost:5000/predictions/predict_purchase_frequency'\n",
    "    data = {\n",
    "        'age': 30,\n",
    "        'income': 50000\n",
    "    }\n",
    "    response = requests.post(url, json=data)\n",
    "    print(\"Purchase Frequency Prediction Response:\", response.json())\n",
    "\n",
    "# Run tests\n",
    "test_image_classification()\n",
    "test_purchase_frequency_prediction()\n",
    "\n",
    "print(\"API testing complete.\")"
   ]
  },
  {
   "cell_type": "code",
   "execution_count": null,
   "id": "646fe554-6c9e-4232-858f-9f5b973881ca",
   "metadata": {},
   "outputs": [],
   "source": []
  }
 ],
 "metadata": {
  "kernelspec": {
   "display_name": "Python 3 (ipykernel)",
   "language": "python",
   "name": "python3"
  },
  "language_info": {
   "codemirror_mode": {
    "name": "ipython",
    "version": 3
   },
   "file_extension": ".py",
   "mimetype": "text/x-python",
   "name": "python",
   "nbconvert_exporter": "python",
   "pygments_lexer": "ipython3",
   "version": "3.10.12"
  }
 },
 "nbformat": 4,
 "nbformat_minor": 5
}
